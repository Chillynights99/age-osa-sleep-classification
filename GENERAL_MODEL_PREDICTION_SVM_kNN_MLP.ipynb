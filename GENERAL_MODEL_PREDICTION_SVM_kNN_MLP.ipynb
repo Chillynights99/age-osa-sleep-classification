{
 "cells": [
  {
   "cell_type": "code",
   "execution_count": null,
   "id": "d0e1da16",
   "metadata": {},
   "outputs": [],
   "source": [
    "import os\n",
    "import pandas as pd\n",
    "import numpy as np\n",
    "from sklearn import preprocessing\n",
    "scaler = preprocessing.MinMaxScaler()\n",
    "from sklearn.model_selection import KFold\n",
    "from sklearn.model_selection import StratifiedKFold\n",
    "from sklearn.model_selection import cross_val_score, cross_validate\n",
    "from sklearn.metrics import accuracy_score\n",
    "from sklearn.svm import SVC\n",
    "import matplotlib.pyplot as plt\n",
    "import seaborn as sns\n",
    "import pickle\n",
    "from sklearn.metrics import classification_report,confusion_matrix\n",
    "from sklearn.model_selection import train_test_split\n",
    "from scipy.io import loadmat, savemat\n",
    "from sklearn.model_selection import GridSearchCV\n",
    "from sklearn.svm import SVC"
   ]
  },
  {
   "cell_type": "code",
   "execution_count": null,
   "id": "9bc26b77",
   "metadata": {},
   "outputs": [],
   "source": [
    "# 24 \n",
    "# not working: 113, 157, 27, 132\n",
    "\n",
    "#normal_Y_test = np.array([29, 90, 119, 140])\n",
    "#normal_O_test = np.array([164,165,167,168])\n",
    "#mtom_Y_test = np.array([54, 80,88,107])\n",
    "#mtom_O_test= np.array([16,72,93,103,121,145])\n",
    "#severe_Y_test = np.array([132,175,176,177,179])\n",
    "#severe_O_test = np.array([52,169,170,171,174]) #170\n",
    "\n",
    "test_num=np.array([29, 90, 119, 140,164,165,167,168,54, 80,88,107,16,72,93,103,121,145,132,175,176,177,179,52,169,170,171,174])\n",
    "\n",
    "\n",
    "# Load Model CHANGE MODEL NAME\n",
    "loaded_model = pickle.load(open(\"/user/chae2089/CWpaper/FN_REVISION/GENERAL_MODEL_num_stage_fix/SVM/GENERAL_MODEL_SVM.sav\", 'rb'))"
   ]
  },
  {
   "cell_type": "code",
   "execution_count": null,
   "id": "20ae54e7",
   "metadata": {
    "scrolled": true
   },
   "outputs": [],
   "source": [
    "\n",
    "for k in test_num:\n",
    "    test_data = loadmat(\"/user/chae2089/CWpaper/FN_REVISION/feature_for_sleep_stage/subject{}_PSD_TOTAL.mat\".format(k))\n",
    "    test_data = test_data['TOTAL']\n",
    "    test_data = np.transpose(test_data)\n",
    "    \n",
    "    test_label = loadmat(\"/user/chae2089/CWpaper/FN_REVISION/feature_for_sleep_stage/subject{}_PSD_TOTAL_label.mat\".format(k))\n",
    "    test_label = test_label['label_TOTAL']\n",
    "    test_label = np.transpose(test_label).ravel()\n",
    "    \n",
    "    pred = loaded_model.predict(test_data)\n",
    "    #print(classification_report(test_label, pred))\n",
    "    \n",
    "    np.savetxt('/user/chae2089/CWpaper/FN_REVISION/GENERAL_MODEL_num_stage_fix/SVM/OUT/pred_{}.csv'.format(k),pred,delimiter=\";\") \n",
    "    \n",
    "    result = confusion_matrix(test_label, pred)\n",
    "    filename = (\"/user/chae2089/CWpaper/FN_REVISION/GENERAL_MODEL_num_stage_fix/SVM/OUT/result_{}\".format(k))\n",
    "    np.savetxt(filename, result)\n",
    "    \n",
    "    report = classification_report(test_label, pred)\n",
    "    report2=report.split()\n",
    "    with open(\"/user/chae2089/CWpaper/FN_REVISION/GENERAL_MODEL_num_stage_fix/SVM/OUT/report_{}\".format(k), 'w') as fp:\n",
    "        for item in report2:\n",
    "            fp.write(\"%s\\n\" % item)\n",
    "    "
   ]
  },
  {
   "cell_type": "code",
   "execution_count": null,
   "id": "91e5effa",
   "metadata": {},
   "outputs": [],
   "source": []
  }
 ],
 "metadata": {
  "kernelspec": {
   "display_name": "Python 3",
   "language": "python",
   "name": "python3"
  },
  "language_info": {
   "codemirror_mode": {
    "name": "ipython",
    "version": 3
   },
   "file_extension": ".py",
   "mimetype": "text/x-python",
   "name": "python",
   "nbconvert_exporter": "python",
   "pygments_lexer": "ipython3",
   "version": "3.6.9"
  }
 },
 "nbformat": 4,
 "nbformat_minor": 5
}
